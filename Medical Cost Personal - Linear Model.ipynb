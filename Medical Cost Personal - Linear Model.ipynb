{
 "cells": [
  {
   "cell_type": "markdown",
   "metadata": {},
   "source": [
    " # MEDICAL COST PERSONAL - PREDICTION"
   ]
  },
  {
   "cell_type": "markdown",
   "metadata": {},
   "source": [
    "## INTRODUCTION"
   ]
  },
  {
   "cell_type": "markdown",
   "metadata": {},
   "source": [
    ">> The goal of this analysis is to use patient data to forecast the average medical care expenses for such population segments. These estimates could be used to create actuarial tables that set the price of yearly premiums higher or lower according to the expected treatment costs. (LANTZ, 2019)\n",
    "\n",
    "The present dataset consists of seven variables related to medical expenses of American citizens. Such variables are **Age**, **Sex**, **BMI**, **Children**, **Smoker** and **Region**. We will use the linear regression technique to estimate medical expenses. We seek to answer questions such as the medical expenses of a 30-year-old non-smoker and childless woman living in the southeastern US."
   ]
  },
  {
   "cell_type": "markdown",
   "metadata": {},
   "source": [
    "## 1. IMPORTING AND PREPARING THE DATA"
   ]
  },
  {
   "cell_type": "code",
   "execution_count": 1,
   "metadata": {},
   "outputs": [
    {
     "name": "stderr",
     "output_type": "stream",
     "text": [
      "-- \u001b[1mAttaching packages\u001b[22m --------------------------------------- tidyverse 1.3.0 --\n",
      "\n",
      "\u001b[32mv\u001b[39m \u001b[34mggplot2\u001b[39m 3.3.2     \u001b[32mv\u001b[39m \u001b[34mpurrr  \u001b[39m 0.3.4\n",
      "\u001b[32mv\u001b[39m \u001b[34mtibble \u001b[39m 3.0.4     \u001b[32mv\u001b[39m \u001b[34mdplyr  \u001b[39m 1.0.2\n",
      "\u001b[32mv\u001b[39m \u001b[34mtidyr  \u001b[39m 1.1.2     \u001b[32mv\u001b[39m \u001b[34mstringr\u001b[39m 1.4.0\n",
      "\u001b[32mv\u001b[39m \u001b[34mreadr  \u001b[39m 1.4.0     \u001b[32mv\u001b[39m \u001b[34mforcats\u001b[39m 0.5.0\n",
      "\n",
      "-- \u001b[1mConflicts\u001b[22m ------------------------------------------ tidyverse_conflicts() --\n",
      "\u001b[31mx\u001b[39m \u001b[34mdplyr\u001b[39m::\u001b[32mfilter()\u001b[39m masks \u001b[34mstats\u001b[39m::filter()\n",
      "\u001b[31mx\u001b[39m \u001b[34mdplyr\u001b[39m::\u001b[32mlag()\u001b[39m    masks \u001b[34mstats\u001b[39m::lag()\n",
      "\n",
      "Registered S3 method overwritten by 'pryr':\n",
      "  method      from\n",
      "  print.bytes Rcpp\n",
      "\n",
      "For best results, restart R session and update pander using devtools:: or remotes::install_github('rapporter/pander')\n",
      "\n",
      "\n",
      "Attaching package: 'summarytools'\n",
      "\n",
      "\n",
      "The following object is masked from 'package:tibble':\n",
      "\n",
      "    view\n",
      "\n",
      "\n",
      "Loading required package: xts\n",
      "\n",
      "Loading required package: zoo\n",
      "\n",
      "\n",
      "Attaching package: 'zoo'\n",
      "\n",
      "\n",
      "The following objects are masked from 'package:base':\n",
      "\n",
      "    as.Date, as.Date.numeric\n",
      "\n",
      "\n",
      "\n",
      "Attaching package: 'xts'\n",
      "\n",
      "\n",
      "The following objects are masked from 'package:dplyr':\n",
      "\n",
      "    first, last\n",
      "\n",
      "\n",
      "\n",
      "Attaching package: 'PerformanceAnalytics'\n",
      "\n",
      "\n",
      "The following object is masked from 'package:graphics':\n",
      "\n",
      "    legend\n",
      "\n",
      "\n",
      "Loading required package: lattice\n",
      "\n",
      "\n",
      "Attaching package: 'caret'\n",
      "\n",
      "\n",
      "The following object is masked from 'package:purrr':\n",
      "\n",
      "    lift\n",
      "\n",
      "\n"
     ]
    }
   ],
   "source": [
    "# Import the libraries\n",
    "library(tidyverse)\n",
    "library(summarytools)\n",
    "library(PerformanceAnalytics)\n",
    "library(caret)\n",
    "library(ggResidpanel)\n",
    "library(caTools)\n"
   ]
  },
  {
   "cell_type": "code",
   "execution_count": 2,
   "metadata": {},
   "outputs": [],
   "source": [
    "# Read the data\n",
    "df_insurance<- read.csv(\"insurance.csv\")"
   ]
  },
  {
   "cell_type": "code",
   "execution_count": 3,
   "metadata": {},
   "outputs": [
    {
     "data": {
      "text/html": [
       "<style>\n",
       ".dl-inline {width: auto; margin:0; padding: 0}\n",
       ".dl-inline>dt, .dl-inline>dd {float: none; width: auto; display: inline-block}\n",
       ".dl-inline>dt::after {content: \":\\0020\"; padding-right: .5ex}\n",
       ".dl-inline>dt:not(:first-of-type) {padding-left: .5ex}\n",
       "</style><dl class=dl-inline><dt>age</dt><dd>FALSE</dd><dt>sex</dt><dd>FALSE</dd><dt>bmi</dt><dd>FALSE</dd><dt>children</dt><dd>FALSE</dd><dt>smoker</dt><dd>FALSE</dd><dt>region</dt><dd>FALSE</dd><dt>charges</dt><dd>FALSE</dd></dl>\n"
      ],
      "text/latex": [
       "\\begin{description*}\n",
       "\\item[age] FALSE\n",
       "\\item[sex] FALSE\n",
       "\\item[bmi] FALSE\n",
       "\\item[children] FALSE\n",
       "\\item[smoker] FALSE\n",
       "\\item[region] FALSE\n",
       "\\item[charges] FALSE\n",
       "\\end{description*}\n"
      ],
      "text/markdown": [
       "age\n",
       ":   FALSEsex\n",
       ":   FALSEbmi\n",
       ":   FALSEchildren\n",
       ":   FALSEsmoker\n",
       ":   FALSEregion\n",
       ":   FALSEcharges\n",
       ":   FALSE\n",
       "\n"
      ],
      "text/plain": [
       "     age      sex      bmi children   smoker   region  charges \n",
       "   FALSE    FALSE    FALSE    FALSE    FALSE    FALSE    FALSE "
      ]
     },
     "metadata": {},
     "output_type": "display_data"
    }
   ],
   "source": [
    "# Check for missing values\n",
    "f=function(x){any(is.na(x))}\n",
    "check.na=apply(df_insurance,2,f);\n",
    "check.na"
   ]
  },
  {
   "cell_type": "code",
   "execution_count": 4,
   "metadata": {},
   "outputs": [
    {
     "data": {
      "text/plain": [
       "      age            sex                 bmi           children    \n",
       " Min.   :18.00   Length:1338        Min.   :15.96   Min.   :0.000  \n",
       " 1st Qu.:27.00   Class :character   1st Qu.:26.30   1st Qu.:0.000  \n",
       " Median :39.00   Mode  :character   Median :30.40   Median :1.000  \n",
       " Mean   :39.21                      Mean   :30.66   Mean   :1.095  \n",
       " 3rd Qu.:51.00                      3rd Qu.:34.69   3rd Qu.:2.000  \n",
       " Max.   :64.00                      Max.   :53.13   Max.   :5.000  \n",
       "    smoker             region             charges     \n",
       " Length:1338        Length:1338        Min.   : 1122  \n",
       " Class :character   Class :character   1st Qu.: 4740  \n",
       " Mode  :character   Mode  :character   Median : 9382  \n",
       "                                       Mean   :13270  \n",
       "                                       3rd Qu.:16640  \n",
       "                                       Max.   :63770  "
      ]
     },
     "metadata": {},
     "output_type": "display_data"
    }
   ],
   "source": [
    "# Summary of dataset\n",
    "summary(df_insurance)"
   ]
  },
  {
   "cell_type": "code",
   "execution_count": 5,
   "metadata": {},
   "outputs": [],
   "source": [
    "# Transform variables to factor\n",
    "df_insurance$sex<- factor(df_insurance$sex)\n",
    "df_insurance$smoker<- factor(df_insurance$smoker)\n",
    "df_insurance$region<- factor(df_insurance$region)"
   ]
  },
  {
   "cell_type": "code",
   "execution_count": 6,
   "metadata": {},
   "outputs": [
    {
     "name": "stdout",
     "output_type": "stream",
     "text": [
      "'data.frame':\t1338 obs. of  7 variables:\n",
      " $ age     : int  19 18 28 33 32 31 46 37 37 60 ...\n",
      " $ sex     : Factor w/ 2 levels \"female\",\"male\": 1 2 2 2 2 1 1 1 2 1 ...\n",
      " $ bmi     : num  27.9 33.8 33 22.7 28.9 ...\n",
      " $ children: int  0 1 3 0 0 0 1 3 2 0 ...\n",
      " $ smoker  : Factor w/ 2 levels \"no\",\"yes\": 2 1 1 1 1 1 1 1 1 1 ...\n",
      " $ region  : Factor w/ 4 levels \"northeast\",\"northwest\",..: 4 3 3 2 2 3 3 2 1 2 ...\n",
      " $ charges : num  16885 1726 4449 21984 3867 ...\n"
     ]
    }
   ],
   "source": [
    "# Display structure of dataset\n",
    "str(df_insurance)"
   ]
  },
  {
   "cell_type": "code",
   "execution_count": 7,
   "metadata": {},
   "outputs": [
    {
     "data": {
      "text/html": [
       "<table>\n",
       "<caption>A data.frame: 6 × 7</caption>\n",
       "<thead>\n",
       "\t<tr><th></th><th scope=col>age</th><th scope=col>sex</th><th scope=col>bmi</th><th scope=col>children</th><th scope=col>smoker</th><th scope=col>region</th><th scope=col>charges</th></tr>\n",
       "\t<tr><th></th><th scope=col>&lt;int&gt;</th><th scope=col>&lt;fct&gt;</th><th scope=col>&lt;dbl&gt;</th><th scope=col>&lt;int&gt;</th><th scope=col>&lt;fct&gt;</th><th scope=col>&lt;fct&gt;</th><th scope=col>&lt;dbl&gt;</th></tr>\n",
       "</thead>\n",
       "<tbody>\n",
       "\t<tr><th scope=row>1</th><td>19</td><td>female</td><td>27.900</td><td>0</td><td>yes</td><td>southwest</td><td>16884.924</td></tr>\n",
       "\t<tr><th scope=row>2</th><td>18</td><td>male  </td><td>33.770</td><td>1</td><td>no </td><td>southeast</td><td> 1725.552</td></tr>\n",
       "\t<tr><th scope=row>3</th><td>28</td><td>male  </td><td>33.000</td><td>3</td><td>no </td><td>southeast</td><td> 4449.462</td></tr>\n",
       "\t<tr><th scope=row>4</th><td>33</td><td>male  </td><td>22.705</td><td>0</td><td>no </td><td>northwest</td><td>21984.471</td></tr>\n",
       "\t<tr><th scope=row>5</th><td>32</td><td>male  </td><td>28.880</td><td>0</td><td>no </td><td>northwest</td><td> 3866.855</td></tr>\n",
       "\t<tr><th scope=row>6</th><td>31</td><td>female</td><td>25.740</td><td>0</td><td>no </td><td>southeast</td><td> 3756.622</td></tr>\n",
       "</tbody>\n",
       "</table>\n"
      ],
      "text/latex": [
       "A data.frame: 6 × 7\n",
       "\\begin{tabular}{r|lllllll}\n",
       "  & age & sex & bmi & children & smoker & region & charges\\\\\n",
       "  & <int> & <fct> & <dbl> & <int> & <fct> & <fct> & <dbl>\\\\\n",
       "\\hline\n",
       "\t1 & 19 & female & 27.900 & 0 & yes & southwest & 16884.924\\\\\n",
       "\t2 & 18 & male   & 33.770 & 1 & no  & southeast &  1725.552\\\\\n",
       "\t3 & 28 & male   & 33.000 & 3 & no  & southeast &  4449.462\\\\\n",
       "\t4 & 33 & male   & 22.705 & 0 & no  & northwest & 21984.471\\\\\n",
       "\t5 & 32 & male   & 28.880 & 0 & no  & northwest &  3866.855\\\\\n",
       "\t6 & 31 & female & 25.740 & 0 & no  & southeast &  3756.622\\\\\n",
       "\\end{tabular}\n"
      ],
      "text/markdown": [
       "\n",
       "A data.frame: 6 × 7\n",
       "\n",
       "| <!--/--> | age &lt;int&gt; | sex &lt;fct&gt; | bmi &lt;dbl&gt; | children &lt;int&gt; | smoker &lt;fct&gt; | region &lt;fct&gt; | charges &lt;dbl&gt; |\n",
       "|---|---|---|---|---|---|---|---|\n",
       "| 1 | 19 | female | 27.900 | 0 | yes | southwest | 16884.924 |\n",
       "| 2 | 18 | male   | 33.770 | 1 | no  | southeast |  1725.552 |\n",
       "| 3 | 28 | male   | 33.000 | 3 | no  | southeast |  4449.462 |\n",
       "| 4 | 33 | male   | 22.705 | 0 | no  | northwest | 21984.471 |\n",
       "| 5 | 32 | male   | 28.880 | 0 | no  | northwest |  3866.855 |\n",
       "| 6 | 31 | female | 25.740 | 0 | no  | southeast |  3756.622 |\n",
       "\n"
      ],
      "text/plain": [
       "  age sex    bmi    children smoker region    charges  \n",
       "1 19  female 27.900 0        yes    southwest 16884.924\n",
       "2 18  male   33.770 1        no     southeast  1725.552\n",
       "3 28  male   33.000 3        no     southeast  4449.462\n",
       "4 33  male   22.705 0        no     northwest 21984.471\n",
       "5 32  male   28.880 0        no     northwest  3866.855\n",
       "6 31  female 25.740 0        no     southeast  3756.622"
      ]
     },
     "metadata": {},
     "output_type": "display_data"
    }
   ],
   "source": [
    "# Visualising first six lines\n",
    "head(df_insurance)"
   ]
  },
  {
   "cell_type": "code",
   "execution_count": 8,
   "metadata": {},
   "outputs": [
    {
     "data": {
      "text/html": [
       "<table>\n",
       "<caption>A data.frame: 6 × 7</caption>\n",
       "<thead>\n",
       "\t<tr><th></th><th scope=col>age</th><th scope=col>sex</th><th scope=col>bmi</th><th scope=col>children</th><th scope=col>smoker</th><th scope=col>region</th><th scope=col>charges</th></tr>\n",
       "\t<tr><th></th><th scope=col>&lt;int&gt;</th><th scope=col>&lt;fct&gt;</th><th scope=col>&lt;dbl&gt;</th><th scope=col>&lt;int&gt;</th><th scope=col>&lt;fct&gt;</th><th scope=col>&lt;fct&gt;</th><th scope=col>&lt;dbl&gt;</th></tr>\n",
       "</thead>\n",
       "<tbody>\n",
       "\t<tr><th scope=row>1333</th><td>52</td><td>female</td><td>44.70</td><td>3</td><td>no </td><td>southwest</td><td>11411.685</td></tr>\n",
       "\t<tr><th scope=row>1334</th><td>50</td><td>male  </td><td>30.97</td><td>3</td><td>no </td><td>northwest</td><td>10600.548</td></tr>\n",
       "\t<tr><th scope=row>1335</th><td>18</td><td>female</td><td>31.92</td><td>0</td><td>no </td><td>northeast</td><td> 2205.981</td></tr>\n",
       "\t<tr><th scope=row>1336</th><td>18</td><td>female</td><td>36.85</td><td>0</td><td>no </td><td>southeast</td><td> 1629.833</td></tr>\n",
       "\t<tr><th scope=row>1337</th><td>21</td><td>female</td><td>25.80</td><td>0</td><td>no </td><td>southwest</td><td> 2007.945</td></tr>\n",
       "\t<tr><th scope=row>1338</th><td>61</td><td>female</td><td>29.07</td><td>0</td><td>yes</td><td>northwest</td><td>29141.360</td></tr>\n",
       "</tbody>\n",
       "</table>\n"
      ],
      "text/latex": [
       "A data.frame: 6 × 7\n",
       "\\begin{tabular}{r|lllllll}\n",
       "  & age & sex & bmi & children & smoker & region & charges\\\\\n",
       "  & <int> & <fct> & <dbl> & <int> & <fct> & <fct> & <dbl>\\\\\n",
       "\\hline\n",
       "\t1333 & 52 & female & 44.70 & 3 & no  & southwest & 11411.685\\\\\n",
       "\t1334 & 50 & male   & 30.97 & 3 & no  & northwest & 10600.548\\\\\n",
       "\t1335 & 18 & female & 31.92 & 0 & no  & northeast &  2205.981\\\\\n",
       "\t1336 & 18 & female & 36.85 & 0 & no  & southeast &  1629.833\\\\\n",
       "\t1337 & 21 & female & 25.80 & 0 & no  & southwest &  2007.945\\\\\n",
       "\t1338 & 61 & female & 29.07 & 0 & yes & northwest & 29141.360\\\\\n",
       "\\end{tabular}\n"
      ],
      "text/markdown": [
       "\n",
       "A data.frame: 6 × 7\n",
       "\n",
       "| <!--/--> | age &lt;int&gt; | sex &lt;fct&gt; | bmi &lt;dbl&gt; | children &lt;int&gt; | smoker &lt;fct&gt; | region &lt;fct&gt; | charges &lt;dbl&gt; |\n",
       "|---|---|---|---|---|---|---|---|\n",
       "| 1333 | 52 | female | 44.70 | 3 | no  | southwest | 11411.685 |\n",
       "| 1334 | 50 | male   | 30.97 | 3 | no  | northwest | 10600.548 |\n",
       "| 1335 | 18 | female | 31.92 | 0 | no  | northeast |  2205.981 |\n",
       "| 1336 | 18 | female | 36.85 | 0 | no  | southeast |  1629.833 |\n",
       "| 1337 | 21 | female | 25.80 | 0 | no  | southwest |  2007.945 |\n",
       "| 1338 | 61 | female | 29.07 | 0 | yes | northwest | 29141.360 |\n",
       "\n"
      ],
      "text/plain": [
       "     age sex    bmi   children smoker region    charges  \n",
       "1333 52  female 44.70 3        no     southwest 11411.685\n",
       "1334 50  male   30.97 3        no     northwest 10600.548\n",
       "1335 18  female 31.92 0        no     northeast  2205.981\n",
       "1336 18  female 36.85 0        no     southeast  1629.833\n",
       "1337 21  female 25.80 0        no     southwest  2007.945\n",
       "1338 61  female 29.07 0        yes    northwest 29141.360"
      ]
     },
     "metadata": {},
     "output_type": "display_data"
    }
   ],
   "source": [
    "# Visualising last six lines\n",
    "tail(df_insurance)"
   ]
  },
  {
   "cell_type": "code",
   "execution_count": 9,
   "metadata": {},
   "outputs": [
    {
     "data": {
      "text/html": [
       "<table>\n",
       "<caption>A summarytools: 15 × 4 of type dbl</caption>\n",
       "<thead>\n",
       "\t<tr><th></th><th scope=col>age</th><th scope=col>bmi</th><th scope=col>charges</th><th scope=col>children</th></tr>\n",
       "</thead>\n",
       "<tbody>\n",
       "\t<tr><th scope=row>Mean</th><td>  39.20702541</td><td>  30.66339686</td><td>1.327042e+04</td><td>1.094918e+00</td></tr>\n",
       "\t<tr><th scope=row>Std.Dev</th><td>  14.04996038</td><td>   6.09818691</td><td>1.211001e+04</td><td>1.205493e+00</td></tr>\n",
       "\t<tr><th scope=row>Min</th><td>  18.00000000</td><td>  15.96000000</td><td>1.121874e+03</td><td>0.000000e+00</td></tr>\n",
       "\t<tr><th scope=row>Q1</th><td>  27.00000000</td><td>  26.29000000</td><td>4.738268e+03</td><td>0.000000e+00</td></tr>\n",
       "\t<tr><th scope=row>Median</th><td>  39.00000000</td><td>  30.40000000</td><td>9.382033e+03</td><td>1.000000e+00</td></tr>\n",
       "\t<tr><th scope=row>Q3</th><td>  51.00000000</td><td>  34.70000000</td><td>1.665772e+04</td><td>2.000000e+00</td></tr>\n",
       "\t<tr><th scope=row>Max</th><td>  64.00000000</td><td>  53.13000000</td><td>6.377043e+04</td><td>5.000000e+00</td></tr>\n",
       "\t<tr><th scope=row>MAD</th><td>  17.79120000</td><td>   6.19726800</td><td>7.440809e+03</td><td>1.482600e+00</td></tr>\n",
       "\t<tr><th scope=row>IQR</th><td>  24.00000000</td><td>   8.39750000</td><td>1.189963e+04</td><td>2.000000e+00</td></tr>\n",
       "\t<tr><th scope=row>CV</th><td>   0.35835313</td><td>   0.19887513</td><td>9.125566e-01</td><td>1.100989e+00</td></tr>\n",
       "\t<tr><th scope=row>Skewness</th><td>   0.05554775</td><td>   0.28341055</td><td>1.512483e+00</td><td>9.362775e-01</td></tr>\n",
       "\t<tr><th scope=row>SE.Skewness</th><td>   0.06689004</td><td>   0.06689004</td><td>6.689004e-02</td><td>6.689004e-02</td></tr>\n",
       "\t<tr><th scope=row>Kurtosis</th><td>  -1.24754314</td><td>  -0.05942352</td><td>1.588954e+00</td><td>1.924401e-01</td></tr>\n",
       "\t<tr><th scope=row>N.Valid</th><td>1338.00000000</td><td>1338.00000000</td><td>1.338000e+03</td><td>1.338000e+03</td></tr>\n",
       "\t<tr><th scope=row>Pct.Valid</th><td> 100.00000000</td><td> 100.00000000</td><td>1.000000e+02</td><td>1.000000e+02</td></tr>\n",
       "</tbody>\n",
       "</table>\n"
      ],
      "text/latex": [
       "A summarytools: 15 × 4 of type dbl\n",
       "\\begin{tabular}{r|llll}\n",
       "  & age & bmi & charges & children\\\\\n",
       "\\hline\n",
       "\tMean &   39.20702541 &   30.66339686 & 1.327042e+04 & 1.094918e+00\\\\\n",
       "\tStd.Dev &   14.04996038 &    6.09818691 & 1.211001e+04 & 1.205493e+00\\\\\n",
       "\tMin &   18.00000000 &   15.96000000 & 1.121874e+03 & 0.000000e+00\\\\\n",
       "\tQ1 &   27.00000000 &   26.29000000 & 4.738268e+03 & 0.000000e+00\\\\\n",
       "\tMedian &   39.00000000 &   30.40000000 & 9.382033e+03 & 1.000000e+00\\\\\n",
       "\tQ3 &   51.00000000 &   34.70000000 & 1.665772e+04 & 2.000000e+00\\\\\n",
       "\tMax &   64.00000000 &   53.13000000 & 6.377043e+04 & 5.000000e+00\\\\\n",
       "\tMAD &   17.79120000 &    6.19726800 & 7.440809e+03 & 1.482600e+00\\\\\n",
       "\tIQR &   24.00000000 &    8.39750000 & 1.189963e+04 & 2.000000e+00\\\\\n",
       "\tCV &    0.35835313 &    0.19887513 & 9.125566e-01 & 1.100989e+00\\\\\n",
       "\tSkewness &    0.05554775 &    0.28341055 & 1.512483e+00 & 9.362775e-01\\\\\n",
       "\tSE.Skewness &    0.06689004 &    0.06689004 & 6.689004e-02 & 6.689004e-02\\\\\n",
       "\tKurtosis &   -1.24754314 &   -0.05942352 & 1.588954e+00 & 1.924401e-01\\\\\n",
       "\tN.Valid & 1338.00000000 & 1338.00000000 & 1.338000e+03 & 1.338000e+03\\\\\n",
       "\tPct.Valid &  100.00000000 &  100.00000000 & 1.000000e+02 & 1.000000e+02\\\\\n",
       "\\end{tabular}\n"
      ],
      "text/markdown": [
       "\n",
       "A summarytools: 15 × 4 of type dbl\n",
       "\n",
       "| <!--/--> | age | bmi | charges | children |\n",
       "|---|---|---|---|---|\n",
       "| Mean |   39.20702541 |   30.66339686 | 1.327042e+04 | 1.094918e+00 |\n",
       "| Std.Dev |   14.04996038 |    6.09818691 | 1.211001e+04 | 1.205493e+00 |\n",
       "| Min |   18.00000000 |   15.96000000 | 1.121874e+03 | 0.000000e+00 |\n",
       "| Q1 |   27.00000000 |   26.29000000 | 4.738268e+03 | 0.000000e+00 |\n",
       "| Median |   39.00000000 |   30.40000000 | 9.382033e+03 | 1.000000e+00 |\n",
       "| Q3 |   51.00000000 |   34.70000000 | 1.665772e+04 | 2.000000e+00 |\n",
       "| Max |   64.00000000 |   53.13000000 | 6.377043e+04 | 5.000000e+00 |\n",
       "| MAD |   17.79120000 |    6.19726800 | 7.440809e+03 | 1.482600e+00 |\n",
       "| IQR |   24.00000000 |    8.39750000 | 1.189963e+04 | 2.000000e+00 |\n",
       "| CV |    0.35835313 |    0.19887513 | 9.125566e-01 | 1.100989e+00 |\n",
       "| Skewness |    0.05554775 |    0.28341055 | 1.512483e+00 | 9.362775e-01 |\n",
       "| SE.Skewness |    0.06689004 |    0.06689004 | 6.689004e-02 | 6.689004e-02 |\n",
       "| Kurtosis |   -1.24754314 |   -0.05942352 | 1.588954e+00 | 1.924401e-01 |\n",
       "| N.Valid | 1338.00000000 | 1338.00000000 | 1.338000e+03 | 1.338000e+03 |\n",
       "| Pct.Valid |  100.00000000 |  100.00000000 | 1.000000e+02 | 1.000000e+02 |\n",
       "\n"
      ],
      "text/plain": [
       "            age           bmi           charges      children    \n",
       "Mean          39.20702541   30.66339686 1.327042e+04 1.094918e+00\n",
       "Std.Dev       14.04996038    6.09818691 1.211001e+04 1.205493e+00\n",
       "Min           18.00000000   15.96000000 1.121874e+03 0.000000e+00\n",
       "Q1            27.00000000   26.29000000 4.738268e+03 0.000000e+00\n",
       "Median        39.00000000   30.40000000 9.382033e+03 1.000000e+00\n",
       "Q3            51.00000000   34.70000000 1.665772e+04 2.000000e+00\n",
       "Max           64.00000000   53.13000000 6.377043e+04 5.000000e+00\n",
       "MAD           17.79120000    6.19726800 7.440809e+03 1.482600e+00\n",
       "IQR           24.00000000    8.39750000 1.189963e+04 2.000000e+00\n",
       "CV             0.35835313    0.19887513 9.125566e-01 1.100989e+00\n",
       "Skewness       0.05554775    0.28341055 1.512483e+00 9.362775e-01\n",
       "SE.Skewness    0.06689004    0.06689004 6.689004e-02 6.689004e-02\n",
       "Kurtosis      -1.24754314   -0.05942352 1.588954e+00 1.924401e-01\n",
       "N.Valid     1338.00000000 1338.00000000 1.338000e+03 1.338000e+03\n",
       "Pct.Valid    100.00000000  100.00000000 1.000000e+02 1.000000e+02"
      ]
     },
     "metadata": {},
     "output_type": "display_data"
    }
   ],
   "source": [
    "# Summary statistics\n",
    "df_insurance %>%\n",
    "summarytools::descr()"
   ]
  },
  {
   "cell_type": "markdown",
   "metadata": {},
   "source": [
    "## 2. EXPLORATORY DATA ANALISYS - MEDICAL EXPENSES"
   ]
  },
  {
   "cell_type": "markdown",
   "metadata": {},
   "source": [
    "**DICTIONARY OF VARIABLES** <br>\n",
    "**age:** Age of primary beneficiary. <br>\n",
    "**sex:** Insurance contractor gender (female or male).  <br>\n",
    "**bmi:** Body mass index.  <br>\n",
    "**children:** Number of dependents.  <br>\n",
    "**smoker:** Smoking. <br>\n",
    "**region:** The beneficiary's residential area in the US.  <br>\n",
    "**charges:** Individual medical costs billed by health insurance. "
   ]
  },
  {
   "cell_type": "markdown",
   "metadata": {},
   "source": [
    "### 2.1 VISUALIZATION OF VARIABLES"
   ]
  },
  {
   "cell_type": "markdown",
   "metadata": {},
   "source": [
    "CHARGES -> The interesting variable is right-skewed, since mean have higher value than median."
   ]
  },
  {
   "cell_type": "code",
   "execution_count": 10,
   "metadata": {},
   "outputs": [
    {
     "data": {
      "text/plain": [
       "   Min. 1st Qu.  Median    Mean 3rd Qu.    Max. \n",
       "   1122    4740    9382   13270   16640   63770 "
      ]
     },
     "metadata": {},
     "output_type": "display_data"
    }
   ],
   "source": [
    "# Summary variable Charges\n",
    "summary(df_insurance$charges)"
   ]
  },
  {
   "cell_type": "code",
   "execution_count": 11,
   "metadata": {},
   "outputs": [
    {
     "data": {
      "image/png": "[encoded data removed]",
      "text/plain": [
       "plot without title"
      ]
     },
     "metadata": {
      "image/png": {
       "height": 420,
       "width": 420
      }
     },
     "output_type": "display_data"
    }
   ],
   "source": [
    "# Distribution Variable Charges\n",
    "df_insurance %>%\n",
    "ggplot(aes(charges)) +\n",
    "geom_histogram(color = \"blue\", fill = \"green\",alpha = .5, bins = 25) +\n",
    "scale_x_continuous(breaks = seq(0,64000,10000)) +\n",
    "theme(axis.text.x = element_text(size = 14)) +\n",
    "labs(title=\"Variable Charges\", x=\"\")"
   ]
  },
  {
   "cell_type": "markdown",
   "metadata": {},
   "source": [
    "VARIABLES -> We can visualize the other variables."
   ]
  },
  {
   "cell_type": "code",
   "execution_count": 12,
   "metadata": {},
   "outputs": [
    {
     "data": {
      "image/png": "[encoded data removed]",
      "text/plain": [
       "plot without title"
      ]
     },
     "metadata": {
      "image/png": {
       "height": 420,
       "width": 420
      }
     },
     "output_type": "display_data"
    }
   ],
   "source": [
    "# Distribution Variable Age\n",
    "df_insurance %>%\n",
    "ggplot(aes(age)) +\n",
    "geom_histogram(color = \"blue\", fill = \"green\",alpha = .5, bins = 25) +\n",
    "scale_x_continuous(breaks = seq(18,64,5)) +\n",
    "theme(axis.text.x = element_text(size = 14)) +\n",
    "labs(title=\"Variable Age\", x=\"\")"
   ]
  },
  {
   "cell_type": "code",
   "execution_count": 13,
   "metadata": {},
   "outputs": [
    {
     "data": {
      "image/png": "[encoded data removed]",
      "text/plain": [
       "plot without title"
      ]
     },
     "metadata": {
      "image/png": {
       "height": 420,
       "width": 420
      }
     },
     "output_type": "display_data"
    }
   ],
   "source": [
    "# Barplot Variable Sex\n",
    "df_insurance %>%\n",
    "ggplot(aes(x=sex, y = prop.table(stat(count)), \n",
    "                          fill = sex, \n",
    "                          label = scales::percent(prop.table(stat(count))))) +\n",
    "    geom_bar(show.legend=F) + \n",
    "    geom_text(stat = 'count',\n",
    "              position = position_dodge(.9), \n",
    "              vjust = -0.5, \n",
    "              size = 5) + \n",
    "    scale_y_continuous(labels = scales::percent) +\n",
    "theme(axis.text.x = element_text(size = 14)) +\n",
    "labs(title=\"Variable Sex\", x=\"\", y=\"\")"
   ]
  },
  {
   "cell_type": "code",
   "execution_count": 14,
   "metadata": {},
   "outputs": [
    {
     "data": {
      "image/png": "[encoded data removed]",
      "text/plain": [
       "plot without title"
      ]
     },
     "metadata": {
      "image/png": {
       "height": 420,
       "width": 420
      }
     },
     "output_type": "display_data"
    }
   ],
   "source": [
    "# Distribution Variable BMI\n",
    "df_insurance %>%\n",
    "ggplot(aes(bmi)) +\n",
    "geom_histogram(color = \"blue\", fill = \"green\",alpha = .5, bins = 25) +\n",
    "scale_x_continuous(breaks = seq(15,54,5)) +\n",
    "theme(axis.text.x = element_text(size = 14)) +\n",
    "labs(title=\"Variable Body Mass Index\", x=\"\")"
   ]
  },
  {
   "cell_type": "code",
   "execution_count": 15,
   "metadata": {},
   "outputs": [
    {
     "data": {
      "image/png": "[encoded data removed]",
      "text/plain": [
       "plot without title"
      ]
     },
     "metadata": {
      "image/png": {
       "height": 420,
       "width": 420
      }
     },
     "output_type": "display_data"
    }
   ],
   "source": [
    "# Distribution Variable Children\n",
    "df_insurance %>%\n",
    "ggplot(aes(children)) +\n",
    "geom_histogram(color = \"blue\", fill = \"green\",alpha = .5, bins = 15) +\n",
    "scale_x_continuous(breaks = seq(0,5,1)) +\n",
    "theme(axis.text.x = element_text(size = 14)) +\n",
    "labs(title=\"Variable Children\", x=\"\")"
   ]
  },
  {
   "cell_type": "code",
   "execution_count": 16,
   "metadata": {},
   "outputs": [
    {
     "data": {
      "image/png": "[encoded data removed]",
      "text/plain": [
       "plot without title"
      ]
     },
     "metadata": {
      "image/png": {
       "height": 420,
       "width": 420
      }
     },
     "output_type": "display_data"
    }
   ],
   "source": [
    "# Barplot Variable Smoker\n",
    "df_insurance %>%\n",
    "ggplot(aes(x=smoker, y = prop.table(stat(count)), \n",
    "                          fill = smoker, \n",
    "                          label = scales::percent(prop.table(stat(count))))) +\n",
    "    geom_bar(show.legend=F) + \n",
    "    geom_text(stat = 'count',\n",
    "              position = position_dodge(.9), \n",
    "              vjust = -0.5, \n",
    "              size = 5) + \n",
    "    scale_y_continuous(labels = scales::percent) +\n",
    "theme(axis.text.x = element_text(size = 14)) +\n",
    "labs(title=\"Variable Smoker\", x=\"\", y=\"\")"
   ]
  },
  {
   "cell_type": "code",
   "execution_count": 17,
   "metadata": {},
   "outputs": [
    {
     "data": {
      "image/png": "[encoded data removed]",
      "text/plain": [
       "plot without title"
      ]
     },
     "metadata": {
      "image/png": {
       "height": 420,
       "width": 420
      }
     },
     "output_type": "display_data"
    }
   ],
   "source": [
    "# Boxplot Variable Region\n",
    "df_insurance %>%\n",
    "ggplot(aes(reorder(region, region,\n",
    "                     function(x)-length(x)),\n",
    "                   y = prop.table(stat(count)), \n",
    "                          fill = region, \n",
    "                          label = scales::percent(prop.table(stat(count))))) +\n",
    "    geom_bar(show.legend=F) + \n",
    "    geom_text(stat = 'count',\n",
    "              position = position_dodge(.9), \n",
    "              vjust = -0.5, \n",
    "              size = 5) + \n",
    "    scale_y_continuous(labels = scales::percent) +\n",
    "theme(axis.text.x = element_text(size = 14)) +\n",
    "labs(title=\"Variable Region\", x=\"\", y=\"\")"
   ]
  },
  {
   "cell_type": "markdown",
   "metadata": {},
   "source": [
    " ### 2.2 RELATION VARIABLE CHARGES WITH OTHERS VARIABLES"
   ]
  },
  {
   "cell_type": "code",
   "execution_count": 18,
   "metadata": {},
   "outputs": [
    {
     "name": "stderr",
     "output_type": "stream",
     "text": [
      "`geom_smooth()` using formula 'y ~ x'\n",
      "\n"
     ]
    },
    {
     "data": {
      "image/png": "[encoded data removed]",
      "text/plain": [
       "plot without title"
      ]
     },
     "metadata": {
      "image/png": {
       "height": 420,
       "width": 420
      }
     },
     "output_type": "display_data"
    }
   ],
   "source": [
    "# Scatterplot Charges and Age\n",
    "df_insurance %>%\n",
    "ggplot(aes(age, charges)) +\n",
    "geom_point(colour=\"blue\") +\n",
    "geom_smooth(method = \"lm\") +\n",
    "scale_y_continuous(breaks = seq(0,64000,10000)) +\n",
    "theme(axis.text.x = element_text(size = 14)) +\n",
    "labs(title=\"Charges x Age\")"
   ]
  },
  {
   "cell_type": "code",
   "execution_count": 19,
   "metadata": {},
   "outputs": [
    {
     "data": {
      "image/png": "[encoded data removed]",
      "text/plain": [
       "plot without title"
      ]
     },
     "metadata": {
      "image/png": {
       "height": 420,
       "width": 420
      }
     },
     "output_type": "display_data"
    }
   ],
   "source": [
    "# Boxplot Charges and Sex \n",
    "df_insurance %>%\n",
    "ggplot(aes(sex, charges, fill = sex)) +\n",
    "geom_boxplot(show.legend=F, outlier.colour = \"gray\") +\n",
    "scale_y_continuous(breaks = seq(0,64000,10000)) +\n",
    " stat_summary(fun=mean, geom=\"point\",\n",
    "               shape=20, size=3, color=\"white\", fill=\"green\") +\n",
    "theme(axis.text.x = element_text(size = 14)) +\n",
    "labs(title=\"Charges x Sex\", x=\"\")"
   ]
  },
  {
   "cell_type": "code",
   "execution_count": 20,
   "metadata": {},
   "outputs": [
    {
     "name": "stderr",
     "output_type": "stream",
     "text": [
      "`geom_smooth()` using formula 'y ~ x'\n",
      "\n"
     ]
    },
    {
     "data": {
      "text/plain": [
       "List of 2\n",
       " $ axis.text.x:List of 11\n",
       "  ..$ family       : NULL\n",
       "  ..$ face         : NULL\n",
       "  ..$ colour       : NULL\n",
       "  ..$ size         : num 14\n",
       "  ..$ hjust        : NULL\n",
       "  ..$ vjust        : NULL\n",
       "  ..$ angle        : NULL\n",
       "  ..$ lineheight   : NULL\n",
       "  ..$ margin       : NULL\n",
       "  ..$ debug        : NULL\n",
       "  ..$ inherit.blank: logi FALSE\n",
       "  ..- attr(*, \"class\")= chr [1:2] \"element_text\" \"element\"\n",
       " $ title      : chr \"Charges x Bmi\"\n",
       " - attr(*, \"class\")= chr [1:2] \"theme\" \"gg\"\n",
       " - attr(*, \"complete\")= logi FALSE\n",
       " - attr(*, \"validate\")= logi TRUE"
      ]
     },
     "metadata": {},
     "output_type": "display_data"
    },
    {
     "data": {
      "image/png": "[encoded data removed]",
      "text/plain": [
       "plot without title"
      ]
     },
     "metadata": {
      "image/png": {
       "height": 420,
       "width": 420
      }
     },
     "output_type": "display_data"
    }
   ],
   "source": [
    "# Scatterplot Charges and BMI\n",
    "df_insurance %>%\n",
    "ggplot(aes(bmi, charges, colour=bmi)) +\n",
    "geom_point(alpha=.5) +\n",
    "geom_smooth(method=\"lm\")\n",
    "theme(axis.text.x = element_text(size = 14)) +\n",
    "labs(title=\"Charges x Bmi\")"
   ]
  },
  {
   "cell_type": "code",
   "execution_count": 21,
   "metadata": {},
   "outputs": [
    {
     "data": {
      "image/png": "[encoded data removed]",
      "text/plain": [
       "plot without title"
      ]
     },
     "metadata": {
      "image/png": {
       "height": 420,
       "width": 420
      }
     },
     "output_type": "display_data"
    }
   ],
   "source": [
    "# Boxplot Charges and Children\n",
    "df_insurance %>%\n",
    "ggplot(aes(factor(children), charges, fill = factor(children))) +\n",
    "geom_boxplot(show.legend=F, outlier.colour = \"gray\") +\n",
    "scale_y_continuous(breaks = seq(0,64000,10000)) +\n",
    " stat_summary(fun=mean, geom=\"point\",\n",
    "               shape=20, size=3, color=\"white\", fill=\"green\") +\n",
    "theme(axis.text.x = element_text(size = 14)) +\n",
    "labs(x=\"Charges x Children\")"
   ]
  },
  {
   "cell_type": "code",
   "execution_count": 22,
   "metadata": {},
   "outputs": [
    {
     "data": {
      "image/png": "[encoded data removed]",
      "text/plain": [
       "plot without title"
      ]
     },
     "metadata": {
      "image/png": {
       "height": 420,
       "width": 420
      }
     },
     "output_type": "display_data"
    }
   ],
   "source": [
    "# Boxplot Charges and Smoker\n",
    "df_insurance %>%\n",
    "ggplot(aes(smoker, charges, fill = smoker)) +\n",
    "geom_boxplot(show.legend=F, outlier.colour = \"gray\") +\n",
    "scale_y_continuous(breaks = seq(0,64000,10000)) +\n",
    " stat_summary(fun=mean, geom=\"point\",\n",
    "               shape=20, size=3, color=\"white\", fill=\"green\") +\n",
    "theme(axis.text.x = element_text(size = 14)) +\n",
    "labs(title=\"Charges x Smoker\", x=\"\")"
   ]
  },
  {
   "cell_type": "code",
   "execution_count": 23,
   "metadata": {},
   "outputs": [
    {
     "data": {
      "image/png": "[encoded data removed]",
      "text/plain": [
       "plot without title"
      ]
     },
     "metadata": {
      "image/png": {
       "height": 420,
       "width": 420
      }
     },
     "output_type": "display_data"
    }
   ],
   "source": [
    "# Scatterplot Charges and Region\n",
    "df_insurance %>%\n",
    "ggplot(aes(region, charges, fill = region)) +\n",
    "geom_boxplot(show.legend=F, outlier.colour = \"gray\") +\n",
    "scale_y_continuous(breaks = seq(0,64000,10000)) +\n",
    " stat_summary(fun=mean, geom=\"point\",\n",
    "               shape=20, size=3, color=\"white\", fill=\"green\") +\n",
    "theme(axis.text.x = element_text(size = 14)) +\n",
    "labs(title=\"Charges x Region\", x=\"\")"
   ]
  },
  {
   "cell_type": "markdown",
   "metadata": {},
   "source": [
    "CORRELATION MATRIX -> With a correlation matrix we can visualize the relationship between the dependent variable and the independent variables, as well as between them."
   ]
  },
  {
   "cell_type": "code",
   "execution_count": 24,
   "metadata": {},
   "outputs": [
    {
     "data": {
      "image/png": "[encoded data removed]",
      "text/plain": [
       "Plot with title \"\""
      ]
     },
     "metadata": {
      "image/png": {
       "height": 420,
       "width": 420
      }
     },
     "output_type": "display_data"
    }
   ],
   "source": [
    "# The correlation matrix\n",
    "df_insurance %>%\n",
    "select(age, bmi, children, charges) %>%\n",
    "chart.Correlation()"
   ]
  },
  {
   "cell_type": "markdown",
   "metadata": {},
   "source": [
    "## 3. MODELING"
   ]
  },
  {
   "cell_type": "code",
   "execution_count": 25,
   "metadata": {},
   "outputs": [],
   "source": [
    "# New variables \n",
    "df_insurance$age2<- df_insurance$age^2\n",
    "df_insurance$bmi30 <- ifelse(df_insurance$bmi >= 30 , 1, 0)\n",
    "df_insurance$bmi35 <- ifelse(df_insurance$bmi >= 35 , 1, 0)"
   ]
  },
  {
   "cell_type": "code",
   "execution_count": 26,
   "metadata": {},
   "outputs": [],
   "source": [
    "# Split dataset\n",
    "set.seed(123)\n",
    "split<- sample.split(df_insurance$charges, SplitRatio = 0.7)\n",
    "df_train<- subset(df_insurance, split == T)\n",
    "df_test<- subset(df_insurance, split == F)"
   ]
  },
  {
   "cell_type": "code",
   "execution_count": 27,
   "metadata": {},
   "outputs": [],
   "source": [
    "# Define training control\n",
    "train.control <- trainControl(method = \"repeatedcv\", \n",
    "                              number = 10, repeats = 3)"
   ]
  },
  {
   "cell_type": "markdown",
   "metadata": {},
   "source": [
    "MODEL 1 -> consists of the dependent variable **Charges** and the six independent variables **Age**, **Sex**, **BMI**, **Children**, **Smoker** and **Region**."
   ]
  },
  {
   "cell_type": "code",
   "execution_count": 28,
   "metadata": {},
   "outputs": [],
   "source": [
    "# Model 1\n",
    "model1<- train(charges ~., df_train, method = \"lm\",\n",
    "               trControl = train.control)"
   ]
  },
  {
   "cell_type": "code",
   "execution_count": 29,
   "metadata": {},
   "outputs": [
    {
     "data": {
      "text/plain": [
       "\n",
       "Call:\n",
       "lm(formula = .outcome ~ ., data = dat)\n",
       "\n",
       "Residuals:\n",
       "     Min       1Q   Median       3Q      Max \n",
       "-12637.2  -3426.0    -82.5   1597.2  29429.0 \n",
       "\n",
       "Coefficients:\n",
       "                 Estimate Std. Error t value Pr(>|t|)    \n",
       "(Intercept)     -3872.486   2574.381  -1.504 0.132861    \n",
       "age               -58.878    101.336  -0.581 0.561370    \n",
       "sexmale          -592.181    414.429  -1.429 0.153368    \n",
       "bmi               227.224     73.266   3.101 0.001985 ** \n",
       "children          693.763    177.640   3.905 0.000101 ***\n",
       "smokeryes       24381.806    505.045  48.277  < 2e-16 ***\n",
       "regionnorthwest  -573.283    596.017  -0.962 0.336373    \n",
       "regionsoutheast -1169.018    589.033  -1.985 0.047480 *  \n",
       "regionsouthwest -1289.639    587.602  -2.195 0.028430 *  \n",
       "age2                3.991      1.258   3.172 0.001562 ** \n",
       "bmi30            2084.932    700.445   2.977 0.002991 ** \n",
       "bmi35              31.278    744.119   0.042 0.966481    \n",
       "---\n",
       "Signif. codes:  0 '***' 0.001 '**' 0.01 '*' 0.05 '.' 0.1 ' ' 1\n",
       "\n",
       "Residual standard error: 6266 on 924 degrees of freedom\n",
       "Multiple R-squared:  0.7591,\tAdjusted R-squared:  0.7562 \n",
       "F-statistic: 264.7 on 11 and 924 DF,  p-value: < 2.2e-16\n"
      ]
     },
     "metadata": {},
     "output_type": "display_data"
    }
   ],
   "source": [
    "# Summary model 1\n",
    "summary(model1)"
   ]
  },
  {
   "cell_type": "code",
   "execution_count": 30,
   "metadata": {},
   "outputs": [
    {
     "name": "stdout",
     "output_type": "stream",
     "text": [
      "Linear Regression \n",
      "\n",
      "936 samples\n",
      "  9 predictor\n",
      "\n",
      "No pre-processing\n",
      "Resampling: Cross-Validated (10 fold, repeated 3 times) \n",
      "Summary of sample sizes: 843, 842, 844, 843, 844, 843, ... \n",
      "Resampling results:\n",
      "\n",
      "  RMSE      Rsquared   MAE    \n",
      "  6270.671  0.7551022  4449.12\n",
      "\n",
      "Tuning parameter 'intercept' was held constant at a value of TRUE\n"
     ]
    }
   ],
   "source": [
    "# RMSE Rsquared and MAE Model 1\n",
    "print(model1)"
   ]
  },
  {
   "cell_type": "markdown",
   "metadata": {},
   "source": [
    "MODEL 2 -> We observed earlier, when comparing the variables **Charges** and **Age**, that there is a greater medical expense when age increases. Then, we will add a new age variable to the model (**age^2**), in order to capture this non-linear relationship."
   ]
  },
  {
   "cell_type": "code",
   "execution_count": 31,
   "metadata": {},
   "outputs": [],
   "source": [
    "# Model 2\n",
    "model2 <- train(charges ~ age + age2 + children + bmi + sex + smoker + region,\n",
    "             df_train, method=\"lm\", trControl=train.control)"
   ]
  },
  {
   "cell_type": "code",
   "execution_count": 32,
   "metadata": {
    "scrolled": true
   },
   "outputs": [
    {
     "data": {
      "text/plain": [
       "\n",
       "Call:\n",
       "lm(formula = .outcome ~ ., data = dat)\n",
       "\n",
       "Residuals:\n",
       "     Min       1Q   Median       3Q      Max \n",
       "-11987.2  -2979.0   -891.6   1612.2  30533.2 \n",
       "\n",
       "Coefficients:\n",
       "                 Estimate Std. Error t value Pr(>|t|)    \n",
       "(Intercept)     -6806.709   2143.631  -3.175 0.001546 ** \n",
       "age               -73.352    101.491  -0.723 0.470020    \n",
       "age2                4.185      1.259   3.322 0.000927 ***\n",
       "children          701.379    178.122   3.938 8.85e-05 ***\n",
       "bmi               365.974     34.983  10.462  < 2e-16 ***\n",
       "sexmale          -559.158    415.871  -1.345 0.179101    \n",
       "smokeryes       24416.649    506.502  48.206  < 2e-16 ***\n",
       "regionnorthwest  -512.316    597.531  -0.857 0.391452    \n",
       "regionsoutheast -1274.979    589.863  -2.161 0.030914 *  \n",
       "regionsouthwest -1264.232    589.353  -2.145 0.032203 *  \n",
       "---\n",
       "Signif. codes:  0 '***' 0.001 '**' 0.01 '*' 0.05 '.' 0.1 ' ' 1\n",
       "\n",
       "Residual standard error: 6290 on 926 degrees of freedom\n",
       "Multiple R-squared:  0.7567,\tAdjusted R-squared:  0.7544 \n",
       "F-statistic: 320.1 on 9 and 926 DF,  p-value: < 2.2e-16\n"
      ]
     },
     "metadata": {},
     "output_type": "display_data"
    }
   ],
   "source": [
    "# Summary model 2\n",
    "summary(model2)"
   ]
  },
  {
   "cell_type": "code",
   "execution_count": 33,
   "metadata": {},
   "outputs": [
    {
     "name": "stdout",
     "output_type": "stream",
     "text": [
      "Linear Regression \n",
      "\n",
      "936 samples\n",
      "  7 predictor\n",
      "\n",
      "No pre-processing\n",
      "Resampling: Cross-Validated (10 fold, repeated 3 times) \n",
      "Summary of sample sizes: 844, 842, 844, 842, 841, 841, ... \n",
      "Resampling results:\n",
      "\n",
      "  RMSE      Rsquared   MAE     \n",
      "  6307.759  0.7528717  4390.017\n",
      "\n",
      "Tuning parameter 'intercept' was held constant at a value of TRUE\n"
     ]
    }
   ],
   "source": [
    "# RMSE Rsquared and MAE Model 2\n",
    "print(model2)"
   ]
  },
  {
   "cell_type": "markdown",
   "metadata": {},
   "source": [
    "MODEL 3-> We will transform the **BMI** variable into binary to indicate an obesity condition (BMI> = 30), in order to capture the relationship between obesity and higher medical expenses."
   ]
  },
  {
   "cell_type": "code",
   "execution_count": 34,
   "metadata": {},
   "outputs": [],
   "source": [
    "# Model 3\n",
    "model3 <- train(charges ~ age + age2 + children + sex + bmi + bmi30 + smoker + region,\n",
    "             df_train, method=\"lm\", trControl=train.control)"
   ]
  },
  {
   "cell_type": "code",
   "execution_count": 35,
   "metadata": {},
   "outputs": [
    {
     "data": {
      "text/plain": [
       "\n",
       "Call:\n",
       "lm(formula = .outcome ~ ., data = dat)\n",
       "\n",
       "Residuals:\n",
       "     Min       1Q   Median       3Q      Max \n",
       "-12622.6  -3414.0    -88.4   1605.7  29423.1 \n",
       "\n",
       "Coefficients:\n",
       "                 Estimate Std. Error t value Pr(>|t|)    \n",
       "(Intercept)     -3917.594   2338.782  -1.675  0.09426 .  \n",
       "age               -59.087    101.159  -0.584  0.55930    \n",
       "age2                3.994      1.256   3.181  0.00152 ** \n",
       "children          693.427    177.365   3.910 9.92e-05 ***\n",
       "sexmale          -592.229    414.203  -1.430  0.15311    \n",
       "bmi               229.150     57.138   4.010 6.55e-05 ***\n",
       "bmi30            2079.584    688.422   3.021  0.00259 ** \n",
       "smokeryes       24382.599    504.420  48.338  < 2e-16 ***\n",
       "regionnorthwest  -574.219    595.279  -0.965  0.33499    \n",
       "regionsoutheast -1168.152    588.356  -1.985  0.04739 *  \n",
       "regionsouthwest -1290.590    586.849  -2.199  0.02811 *  \n",
       "---\n",
       "Signif. codes:  0 '***' 0.001 '**' 0.01 '*' 0.05 '.' 0.1 ' ' 1\n",
       "\n",
       "Residual standard error: 6262 on 925 degrees of freedom\n",
       "Multiple R-squared:  0.7591,\tAdjusted R-squared:  0.7565 \n",
       "F-statistic: 291.5 on 10 and 925 DF,  p-value: < 2.2e-16\n"
      ]
     },
     "metadata": {},
     "output_type": "display_data"
    }
   ],
   "source": [
    "# Summary model 3\n",
    "summary(model3)"
   ]
  },
  {
   "cell_type": "code",
   "execution_count": 36,
   "metadata": {},
   "outputs": [
    {
     "name": "stdout",
     "output_type": "stream",
     "text": [
      "Linear Regression \n",
      "\n",
      "936 samples\n",
      "  8 predictor\n",
      "\n",
      "No pre-processing\n",
      "Resampling: Cross-Validated (10 fold, repeated 3 times) \n",
      "Summary of sample sizes: 844, 842, 842, 844, 842, 842, ... \n",
      "Resampling results:\n",
      "\n",
      "  RMSE      Rsquared   MAE     \n",
      "  6283.253  0.7534437  4445.504\n",
      "\n",
      "Tuning parameter 'intercept' was held constant at a value of TRUE\n"
     ]
    }
   ],
   "source": [
    "# RMSE Rsquared and MAE Model 3\n",
    "print(model3)"
   ]
  },
  {
   "cell_type": "markdown",
   "metadata": {},
   "source": [
    "MODEL 4 -> Sometimes, we can assume that it makes sense to test the combined effect of two variables, we will build a model with the interaction between the variable **BMI30** and **Smoker**."
   ]
  },
  {
   "cell_type": "code",
   "execution_count": 37,
   "metadata": {},
   "outputs": [],
   "source": [
    "#Model 4\n",
    "model4 <- train(charges ~ age + age2 + children + bmi + sex + bmi30*smoker + region,\n",
    "             df_train, method=\"lm\", trControl=train.control)"
   ]
  },
  {
   "cell_type": "code",
   "execution_count": 38,
   "metadata": {},
   "outputs": [
    {
     "data": {
      "text/plain": [
       "\n",
       "Call:\n",
       "lm(formula = .outcome ~ ., data = dat)\n",
       "\n",
       "Residuals:\n",
       "     Min       1Q   Median       3Q      Max \n",
       "-16960.5  -1865.3  -1281.7   -579.8  24244.2 \n",
       "\n",
       "Coefficients:\n",
       "                    Estimate Std. Error t value Pr(>|t|)    \n",
       "(Intercept)         586.7597  1739.0034   0.337 0.735883    \n",
       "age                 -61.9621    74.8861  -0.827 0.408214    \n",
       "age2                  4.1010     0.9295   4.412 1.14e-05 ***\n",
       "children            769.7133   131.3283   5.861 6.40e-09 ***\n",
       "bmi                 145.7856    42.4053   3.438 0.000612 ***\n",
       "sexmale            -770.7463   306.6939  -2.513 0.012137 *  \n",
       "bmi30             -1490.4726   525.7385  -2.835 0.004682 ** \n",
       "smokeryes         12971.9782   556.6654  23.303  < 2e-16 ***\n",
       "regionnorthwest    -696.4558   440.6947  -1.580 0.114367    \n",
       "regionsoutheast   -1163.9562   435.5471  -2.672 0.007664 ** \n",
       "regionsouthwest   -1814.0681   434.8447  -4.172 3.31e-05 ***\n",
       "`bmi30:smokeryes` 20615.7678   745.8925  27.639  < 2e-16 ***\n",
       "---\n",
       "Signif. codes:  0 '***' 0.001 '**' 0.01 '*' 0.05 '.' 0.1 ' ' 1\n",
       "\n",
       "Residual standard error: 4636 on 924 degrees of freedom\n",
       "Multiple R-squared:  0.8681,\tAdjusted R-squared:  0.8666 \n",
       "F-statistic:   553 on 11 and 924 DF,  p-value: < 2.2e-16\n"
      ]
     },
     "metadata": {},
     "output_type": "display_data"
    }
   ],
   "source": [
    "# Summary model 4\n",
    "summary(model4)"
   ]
  },
  {
   "cell_type": "code",
   "execution_count": 39,
   "metadata": {},
   "outputs": [
    {
     "name": "stdout",
     "output_type": "stream",
     "text": [
      "Linear Regression \n",
      "\n",
      "936 samples\n",
      "  8 predictor\n",
      "\n",
      "No pre-processing\n",
      "Resampling: Cross-Validated (10 fold, repeated 3 times) \n",
      "Summary of sample sizes: 842, 844, 842, 842, 843, 842, ... \n",
      "Resampling results:\n",
      "\n",
      "  RMSE      Rsquared   MAE     \n",
      "  4619.906  0.8637909  2597.382\n",
      "\n",
      "Tuning parameter 'intercept' was held constant at a value of TRUE\n"
     ]
    }
   ],
   "source": [
    "# RMSE Rsquared and MAE Model 4\n",
    "print(model4)"
   ]
  },
  {
   "cell_type": "markdown",
   "metadata": {},
   "source": [
    "MODEL 5 -> Now, we will test whether a BMI index greater than 35 (variable **BMI35**) is more significant."
   ]
  },
  {
   "cell_type": "code",
   "execution_count": 40,
   "metadata": {},
   "outputs": [],
   "source": [
    "# Model 5\n",
    "model5 <- train(charges ~ age + age2 + children + bmi + sex + bmi35*smoker + region,\n",
    "             df_train, method=\"lm\", trControl=train.control)"
   ]
  },
  {
   "cell_type": "code",
   "execution_count": 41,
   "metadata": {},
   "outputs": [
    {
     "data": {
      "text/plain": [
       "\n",
       "Call:\n",
       "lm(formula = .outcome ~ ., data = dat)\n",
       "\n",
       "Residuals:\n",
       "   Min     1Q Median     3Q    Max \n",
       " -8903  -2733  -1388     71  33704 \n",
       "\n",
       "Coefficients:\n",
       "                   Estimate Std. Error t value Pr(>|t|)    \n",
       "(Intercept)       -5810.177   2098.703  -2.768 0.005745 ** \n",
       "age                 -83.154     91.817  -0.906 0.365361    \n",
       "age2                  4.372      1.140   3.837 0.000133 ***\n",
       "children            632.444    161.252   3.922 9.43e-05 ***\n",
       "bmi                 368.438     46.023   8.006 3.56e-15 ***\n",
       "sexmale            -522.918    375.945  -1.391 0.164578    \n",
       "bmi35             -3680.344    702.355  -5.240 1.99e-07 ***\n",
       "smokeryes         20510.874    532.145  38.544  < 2e-16 ***\n",
       "regionnorthwest    -649.144    540.704  -1.201 0.230232    \n",
       "regionsoutheast   -1586.854    534.229  -2.970 0.003051 ** \n",
       "regionsouthwest   -1277.166    533.183  -2.395 0.016802 *  \n",
       "`bmi35:smokeryes` 14916.720   1031.971  14.455  < 2e-16 ***\n",
       "---\n",
       "Signif. codes:  0 '***' 0.001 '**' 0.01 '*' 0.05 '.' 0.1 ' ' 1\n",
       "\n",
       "Residual standard error: 5686 on 924 degrees of freedom\n",
       "Multiple R-squared:  0.8017,\tAdjusted R-squared:  0.7993 \n",
       "F-statistic: 339.5 on 11 and 924 DF,  p-value: < 2.2e-16\n"
      ]
     },
     "metadata": {},
     "output_type": "display_data"
    }
   ],
   "source": [
    "# Summary model 5\n",
    "summary(model5)"
   ]
  },
  {
   "cell_type": "code",
   "execution_count": 42,
   "metadata": {},
   "outputs": [
    {
     "name": "stdout",
     "output_type": "stream",
     "text": [
      "Linear Regression \n",
      "\n",
      "936 samples\n",
      "  8 predictor\n",
      "\n",
      "No pre-processing\n",
      "Resampling: Cross-Validated (10 fold, repeated 3 times) \n",
      "Summary of sample sizes: 842, 843, 840, 843, 843, 844, ... \n",
      "Resampling results:\n",
      "\n",
      "  RMSE      Rsquared   MAE     \n",
      "  5708.793  0.7997272  3761.934\n",
      "\n",
      "Tuning parameter 'intercept' was held constant at a value of TRUE\n"
     ]
    }
   ],
   "source": [
    "# RMSE Rsquared and MAE Model 5\n",
    "print(model5)"
   ]
  },
  {
   "cell_type": "markdown",
   "metadata": {},
   "source": [
    "MODEL SELECT -> We will use too Akaike information criterion (AIC) and Bayesian information criterion (BIC) to select the best model "
   ]
  },
  {
   "cell_type": "code",
   "execution_count": 43,
   "metadata": {},
   "outputs": [
    {
     "data": {
      "text/html": [
       "<table>\n",
       "<caption>A data.frame: 5 × 2</caption>\n",
       "<thead>\n",
       "\t<tr><th></th><th scope=col>df</th><th scope=col>AIC</th></tr>\n",
       "\t<tr><th></th><th scope=col>&lt;dbl&gt;</th><th scope=col>&lt;dbl&gt;</th></tr>\n",
       "</thead>\n",
       "<tbody>\n",
       "\t<tr><th scope=row>model1$finalModel</th><td>13</td><td>19036.80</td></tr>\n",
       "\t<tr><th scope=row>model2$finalModel</th><td>11</td><td>19041.99</td></tr>\n",
       "\t<tr><th scope=row>model3$finalModel</th><td>12</td><td>19034.80</td></tr>\n",
       "\t<tr><th scope=row>model4$finalModel</th><td>13</td><td>18472.83</td></tr>\n",
       "\t<tr><th scope=row>model5$finalModel</th><td>13</td><td>18854.92</td></tr>\n",
       "</tbody>\n",
       "</table>\n"
      ],
      "text/latex": [
       "A data.frame: 5 × 2\n",
       "\\begin{tabular}{r|ll}\n",
       "  & df & AIC\\\\\n",
       "  & <dbl> & <dbl>\\\\\n",
       "\\hline\n",
       "\tmodel1\\$finalModel & 13 & 19036.80\\\\\n",
       "\tmodel2\\$finalModel & 11 & 19041.99\\\\\n",
       "\tmodel3\\$finalModel & 12 & 19034.80\\\\\n",
       "\tmodel4\\$finalModel & 13 & 18472.83\\\\\n",
       "\tmodel5\\$finalModel & 13 & 18854.92\\\\\n",
       "\\end{tabular}\n"
      ],
      "text/markdown": [
       "\n",
       "A data.frame: 5 × 2\n",
       "\n",
       "| <!--/--> | df &lt;dbl&gt; | AIC &lt;dbl&gt; |\n",
       "|---|---|---|\n",
       "| model1$finalModel | 13 | 19036.80 |\n",
       "| model2$finalModel | 11 | 19041.99 |\n",
       "| model3$finalModel | 12 | 19034.80 |\n",
       "| model4$finalModel | 13 | 18472.83 |\n",
       "| model5$finalModel | 13 | 18854.92 |\n",
       "\n"
      ],
      "text/plain": [
       "                  df AIC     \n",
       "model1$finalModel 13 19036.80\n",
       "model2$finalModel 11 19041.99\n",
       "model3$finalModel 12 19034.80\n",
       "model4$finalModel 13 18472.83\n",
       "model5$finalModel 13 18854.92"
      ]
     },
     "metadata": {},
     "output_type": "display_data"
    }
   ],
   "source": [
    "# Comparing models with AIC\n",
    "AIC(model1$finalModel, model2$finalModel, model3$finalModel, model4$finalModel, model5$finalModel)"
   ]
  },
  {
   "cell_type": "code",
   "execution_count": 44,
   "metadata": {},
   "outputs": [
    {
     "data": {
      "text/html": [
       "<table>\n",
       "<caption>A data.frame: 5 × 2</caption>\n",
       "<thead>\n",
       "\t<tr><th></th><th scope=col>df</th><th scope=col>BIC</th></tr>\n",
       "\t<tr><th></th><th scope=col>&lt;dbl&gt;</th><th scope=col>&lt;dbl&gt;</th></tr>\n",
       "</thead>\n",
       "<tbody>\n",
       "\t<tr><th scope=row>model1$finalModel</th><td>13</td><td>19099.74</td></tr>\n",
       "\t<tr><th scope=row>model2$finalModel</th><td>11</td><td>19095.25</td></tr>\n",
       "\t<tr><th scope=row>model3$finalModel</th><td>12</td><td>19092.90</td></tr>\n",
       "\t<tr><th scope=row>model4$finalModel</th><td>13</td><td>18535.77</td></tr>\n",
       "\t<tr><th scope=row>model5$finalModel</th><td>13</td><td>18917.87</td></tr>\n",
       "</tbody>\n",
       "</table>\n"
      ],
      "text/latex": [
       "A data.frame: 5 × 2\n",
       "\\begin{tabular}{r|ll}\n",
       "  & df & BIC\\\\\n",
       "  & <dbl> & <dbl>\\\\\n",
       "\\hline\n",
       "\tmodel1\\$finalModel & 13 & 19099.74\\\\\n",
       "\tmodel2\\$finalModel & 11 & 19095.25\\\\\n",
       "\tmodel3\\$finalModel & 12 & 19092.90\\\\\n",
       "\tmodel4\\$finalModel & 13 & 18535.77\\\\\n",
       "\tmodel5\\$finalModel & 13 & 18917.87\\\\\n",
       "\\end{tabular}\n"
      ],
      "text/markdown": [
       "\n",
       "A data.frame: 5 × 2\n",
       "\n",
       "| <!--/--> | df &lt;dbl&gt; | BIC &lt;dbl&gt; |\n",
       "|---|---|---|\n",
       "| model1$finalModel | 13 | 19099.74 |\n",
       "| model2$finalModel | 11 | 19095.25 |\n",
       "| model3$finalModel | 12 | 19092.90 |\n",
       "| model4$finalModel | 13 | 18535.77 |\n",
       "| model5$finalModel | 13 | 18917.87 |\n",
       "\n"
      ],
      "text/plain": [
       "                  df BIC     \n",
       "model1$finalModel 13 19099.74\n",
       "model2$finalModel 11 19095.25\n",
       "model3$finalModel 12 19092.90\n",
       "model4$finalModel 13 18535.77\n",
       "model5$finalModel 13 18917.87"
      ]
     },
     "metadata": {},
     "output_type": "display_data"
    }
   ],
   "source": [
    "# Comparing models with BIC\n",
    "BIC(model1$finalModel, model2$finalModel, model3$finalModel, model4$finalModel, model5$finalModel)"
   ]
  },
  {
   "cell_type": "markdown",
   "metadata": {},
   "source": [
    "## 4. MAKING PREDICTIONS"
   ]
  },
  {
   "cell_type": "code",
   "execution_count": 45,
   "metadata": {},
   "outputs": [],
   "source": [
    "# Make new variable prediction\n",
    "df_test$pred <- predict(model4, df_test)\n"
   ]
  },
  {
   "cell_type": "code",
   "execution_count": 46,
   "metadata": {},
   "outputs": [
    {
     "data": {
      "text/html": [
       "0.925582823274425"
      ],
      "text/latex": [
       "0.925582823274425"
      ],
      "text/markdown": [
       "0.925582823274425"
      ],
      "text/plain": [
       "[1] 0.9255828"
      ]
     },
     "metadata": {},
     "output_type": "display_data"
    }
   ],
   "source": [
    "# Correlation model\n",
    "cor(df_test$pred, df_test$charges)"
   ]
  },
  {
   "cell_type": "code",
   "execution_count": 47,
   "metadata": {},
   "outputs": [
    {
     "data": {
      "image/png": "[encoded data removed]",
      "text/plain": [
       "plot without title"
      ]
     },
     "metadata": {
      "image/png": {
       "height": 420,
       "width": 420
      }
     },
     "output_type": "display_data"
    }
   ],
   "source": [
    "# Graph of correlation between the predicted and actual\n",
    "df_test %>%\n",
    "ggplot(aes(pred, charges)) +\n",
    "geom_point() +\n",
    "geom_line(aes(y=pred), color = \"red\", size = 2) +\n",
    "labs(x=\"Predicted Value\", y=\"Charges\")\n"
   ]
  },
  {
   "cell_type": "markdown",
   "metadata": {},
   "source": [
    "MEDICAL EXPENSES -> predictions of values from some characteristics."
   ]
  },
  {
   "cell_type": "code",
   "execution_count": 48,
   "metadata": {},
   "outputs": [
    {
     "data": {
      "text/html": [
       "<strong>1:</strong> 7863.26382716932"
      ],
      "text/latex": [
       "\\textbf{1:} 7863.26382716932"
      ],
      "text/markdown": [
       "**1:** 7863.26382716932"
      ],
      "text/plain": [
       "       1 \n",
       "7863.264 "
      ]
     },
     "metadata": {},
     "output_type": "display_data"
    }
   ],
   "source": [
    "# Prediction 1\n",
    "predict(model4, data.frame(age = 35, age2 = 35^2, children = 3,\n",
    "                           bmi = 30, sex = \"male\", bmi30 = 1,\n",
    "                           smoker = \"no\", region = \"northeast\"))"
   ]
  },
  {
   "cell_type": "code",
   "execution_count": 49,
   "metadata": {},
   "outputs": [
    {
     "data": {
      "text/html": [
       "<strong>1:</strong> 25430.1518817284"
      ],
      "text/latex": [
       "\\textbf{1:} 25430.1518817284"
      ],
      "text/markdown": [
       "**1:** 25430.1518817284"
      ],
      "text/plain": [
       "       1 \n",
       "25430.15 "
      ]
     },
     "metadata": {},
     "output_type": "display_data"
    }
   ],
   "source": [
    "# Prediction 2\n",
    "predict(model4, data.frame(age = 55, age2 = 55^2, children = 0,\n",
    "                           bmi = 25, sex = \"male\", bmi30 = 0,\n",
    "                           smoker = \"yes\", region = \"northeast\"))"
   ]
  },
  {
   "cell_type": "code",
   "execution_count": 50,
   "metadata": {},
   "outputs": [
    {
     "data": {
      "text/html": [
       "<strong>1:</strong> 20331.6614184872"
      ],
      "text/latex": [
       "\\textbf{1:} 20331.6614184872"
      ],
      "text/markdown": [
       "**1:** 20331.6614184872"
      ],
      "text/plain": [
       "       1 \n",
       "20331.66 "
      ]
     },
     "metadata": {},
     "output_type": "display_data"
    }
   ],
   "source": [
    "# Prediction 3\n",
    "predict(model4, data.frame(age = 70, age2 = 70^2, children = 2,\n",
    "                           bmi = 35, sex = \"female\", bmi30 = 1,\n",
    "                           smoker = \"no\", region = \"southeast\"))"
   ]
  },
  {
   "cell_type": "code",
   "execution_count": 51,
   "metadata": {},
   "outputs": [
    {
     "data": {
      "text/html": [
       "<strong>1:</strong> 19915.9074341383"
      ],
      "text/latex": [
       "\\textbf{1:} 19915.9074341383"
      ],
      "text/markdown": [
       "**1:** 19915.9074341383"
      ],
      "text/plain": [
       "       1 \n",
       "19915.91 "
      ]
     },
     "metadata": {},
     "output_type": "display_data"
    }
   ],
   "source": [
    "# Prediction 4\n",
    "predict(model4, data.frame(age = 22, age2 = 22^2, children = 4,\n",
    "                           bmi = 23, sex = \"female\", bmi30 = 0,\n",
    "                           smoker = \"yes\", region = \"northwest\"))"
   ]
  },
  {
   "cell_type": "markdown",
   "metadata": {},
   "source": [
    "PREDICTION 1 -> 35-year-old man, non-smoker, obese and with three children, resident of the Northeast region of the USA: **US$7863.264** \n",
    "\n",
    "PREDICTION 2 -> 55-year-old man, smoker, non-obese and without children, resident of the Northeast region of the USA: **US$25430.15**\n",
    "\n",
    "PREDICTION 3 -> 70-year-old woman, non-smoker, obese and with two children, resident of the southeastern USA: **US$20331.66** \n",
    "\n",
    "PREDICTION 4 -> 22-year-old woman, smoker, non-obese and with 4 children, resident of the northwestern region of the USA **US$19915.91** <br>"
   ]
  },
  {
   "cell_type": "markdown",
   "metadata": {},
   "source": [
    "## 5. CONCLUSION"
   ]
  },
  {
   "cell_type": "markdown",
   "metadata": {},
   "source": [
    "When comparing the models, we notice that model 4 has the highest value of Adjusted R-squared 0.8666 and the p-value shows a significant relationship. Model 5 has a value of 0.7993, with the other models having values of 0.75. Model 4 also has the lowest values in AIC and BIC, respectively, 18472.83 and 18535.77. And RMSE 4619,906. For these reasons, we chose model 4 and made some predictions in order to show, in a practical way, the estimated values of medical expenses given some characteristics of the individuals."
   ]
  },
  {
   "cell_type": "markdown",
   "metadata": {},
   "source": [
    "DIEGO RAMIREZ <br>\n",
    "daarfarias@hotmail.com <br>\n",
    "https://github.com/daarfarias"
   ]
  }
 ],
 "metadata": {
  "kernelspec": {
   "display_name": "R",
   "language": "R",
   "name": "ir"
  },
  "language_info": {
   "codemirror_mode": "r",
   "file_extension": ".r",
   "mimetype": "text/x-r-source",
   "name": "R",
   "pygments_lexer": "r",
   "version": "4.0.3"
  }
 },
 "nbformat": 4,
 "nbformat_minor": 4
}
